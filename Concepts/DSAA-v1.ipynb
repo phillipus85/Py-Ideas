{
 "cells": [
  {
   "cell_type": "markdown",
   "metadata": {},
   "source": [
    "# DSAA Proof of Concept"
   ]
  },
  {
   "cell_type": "markdown",
   "metadata": {},
   "source": [
    "## Objective\n",
    "\n",
    "1. To demonstrate the use of the DSAA in a Python with Jupyter Notebook.\n",
    "2. To demonstrate the use of the DSAA in a Python script with a custom configuration file.\n",
    "3. To test the Python library 'Pint' for coefficient generation and unit conversion."
   ]
  },
  {
   "cell_type": "markdown",
   "metadata": {},
   "source": [
    "## Background\n",
    "\n",
    "### Dimensionless Analysis\n",
    "\n",
    "At its core, Dimensionless Analysis (DA) evaluates real-world phenomena with the assumption that its mathematical representation is valid in any system of dimensions (i.e.: The Imperial or International Metric System). For this, we need to understand the dimensions as qualitative descriptions of a property [12] (i.e.: latency, pressure, etc.).\n",
    "\n",
    "These qualitative descriptions belong to some material, fluid, or system. Additionally, the specific numeric value of the dimension is the quantitative description of this property (i.e.: 3.50 Secs of mean latency per request and 2500.0 kPa of Pressure). Any application of DA uses and defines its Fundamental Dimensional Unit (FDU). In traditional engineering there are at least three FDU: Longitude (L), Mass (M) and Time (T), these three units respectively define the distance between two or more bodies in space, the amount of mass in a body, and the increasing sequential difference between events [12], [14].\n",
    "\n",
    "DA produces a set of Dimensionless Numbers or Coefficients (DN or DC) describing the phenomenon. As their name suggests, DN don’t have a qualitative description and only their numerical/quantitative value is relevant [12], [14], essentially reducing the measurements needed to describe the state of any system or phenomena. Additionally, DA can be used when the governing mathematical equations and physical models are unknown [12].\n",
    "\n",
    "In fluid dynamics, the hydraulic system design relies heavily in different DN for fluid analysis. For example, the Reynolds Number (Re) is the relation between the inertial and viscous forces within a fluid subjected to relative internal movement due to different fluid velocities [74]; in other words, how hard a fluid resists itself to be moved around. For fluid pipe, its dimensionless representation is R_e=ρLV⁄μ (the ratio between density ρ, pipe diameter L, fluid velocity V and fluid’s dynamic viscosity µ) [75], its equivalent representation in a combustion engine cylinder’s design is R_e=(U ̅_p b)⁄v (the ratio between the average piston’s velocity Ūp, the piston’s diameter b and the fuel mixture’s dynamic viscosity ʋ) [76], although the Reynolds formula differs in its formal representation, its qualitative meaning does not. These DNs are algorithmically created with a four-step method described as follows:\n",
    "\n",
    "1. To create a complete  and mutually independent parameters (variables and constants) thought to be relevant for the process and that can influence the phenomena, this is called a relevance list.\n",
    "2. To shape this relevance list into a matrixial form divided into two parts. The square core matrix; and the residual matrix. The former contains the fundamental dimensions in the rows (i.e.: L, M, and T) and the most critical dimensional variables as columns (i.e.: ρ, L, and V) and the latter contains the rest of the independently significant variables as columns; in particular, the variable we want to predict as the first one.\n",
    "3. To linearly transform the core matrix into a unity matrix (ones as diagonal values, and the remaining elements are zero).\n",
    "4. To divide the variables of the residual matrix by the variables of the unity matrix with the exponents indicated by the unit values of the residual matrix to generate DC/DN.\n",
    "   \n",
    "Likewise, we recognize three supporting concepts for the DA. The first is the Theory of Modelling, which states that any small-scale process could be viewed as a model of a similar and larger scale process. For example, a small-scale turbine prototype has a similar behaviour as a large-scale turbine set up in an Eolic or hydroelectric generator. This experiment-based design practice reduces the effort and helps to predict real-world performance that otherwise could go unnoticed [12], [14].\n",
    "\n",
    "Second, the Principle of Similitude states that two systems are similar if they share one or more characteristic of similitude, these features are: The Geometrical Similarity (GS) matching the form, structure, or pattern of the two systems in a phenomenon (i.e.: Diameter, Longitude, etc.); the Kinematic Similarity (KS) matching the causes of movement or behaviour of the two systems; and the Dynamic Similarity (DS) matching the geometry of the movement or behaviour of the two systems. If the two systems share all three characteristics, both systems are Completely Similar. However, this is not mandatory but a preferable case [12], [14].\n",
    "\n",
    "And third, the П-Theorem formally states that \"Every physical relationship between n dimensional variables and constants can be reduced to a relationship f(Π_0,Π_1,⋯ Π_(m-1), Π_m )=0 between m=n-r mutually independent Dimensionless Numbers, where r is the Fundamental Dimensional Unit number\". We can understand these as a phenomenon described with n number of dimensional independent parameters, which can be reduced to a group of m number of independent DN, where m < n, thus, simplifying the model complexity. Finally, we must underline that most of DA studies fail when they ignore the geometrical part of the Principle of Similitude and/or the Theory of Modelling scale concept [12], [14].\n",
    "\n",
    "\n"
   ]
  },
  {
   "cell_type": "markdown",
   "metadata": {},
   "source": [
    "## Dimensionless Software Architecture Analysis Method (DSAAM)\n",
    "\n",
    "### Fundamental Dimensional Analogy\n",
    "We consider DA and its coefficients as indirect measurements of the architecture’s overall behaviour. This analogy guides our mental exercise to connect the QAs with the traditional engineering/scientific properties and the software metrics with measurements, thus creating an equivalent methodology based on the traditional DA dubbed Dimensionless Software Architecture Analysis (DSAA).\n",
    "\n",
    "### Quality Attributes as Properties\n",
    "We consider Quality Attributes (QAs) the qualitative description of software system properties because QAs describe how a software achieves its functional objective in the same way other professions use such terms to describe their own domain properties. For example, in fluid mechanics, density is the amount of mass in a volume, and in material science the resilience is the material’s ability to absorb energy under pressure, releasing it afterwards without been deformed permanently. Our purpose is to talk about data density, and to request dispersion and software resilience in the same fashion.\n",
    "\n",
    "We divide QAs into two using the Principle of Similitude to interpret them as properties. Thus, there are dynamic and kinematic properties related to the runtime/execution and compilation/development. Following Bass & Paul QA definitions, we selected the runtime (dynamic) properties as Availability, Interoperability, Performance, Security and Usability. In contrast, Modifiability and Ease of Testing are considered development (kinematic) properties. Lastly, QA priorization and its effects in any architectural pattern are evident when sorting the Utility Tree’s QS.\n",
    "\n",
    "### Software Metrics as Measurements\n",
    "We consider software metrics as the quantitative definition of any system property (QA) and equal to any other physical measurement. Software metrics are numbers with dimensions and can be subjected to DA. For example, a request’s latency of 1800.0 ms can be the numeric representation for Performance efficiency’s time behaviour in ISO-25010; and a program using 57.4 MB of RAM the measures the Performance’s resource utilization in the same framework. This is still true in any other convention system, as we can appreciate that Bass & Paul use of similar terms with a different hierarchy. Conveniently, all frameworks define a qualitative representation of the system’s properties (QA), with artifacts like the Quality Scenarios (QS), and measure them in their Respond Measure with software metrics.\n",
    "\n",
    "This relates to the Software architecture Connectors, as they are independent and standardized components that allow them to communicate, coordinate, translate data, and facilitate the interactions between two different domain components [61]. These connectors’ properties set up the software architecture’s own significant QAs and allow us to measure system’s properties in software metrics.\n",
    "\n",
    "Even when frameworks vary, metrics are consistent. The memory is expressed in Bytes or bits, the time in seconds or milliseconds, the CPU capabilities are counted in cores, processors, threads and so forth. Abstractions are present in the form of layers, components, services, peers, users, and other similar concepts. The concerns here are two. One, recognizing which metric is appropriate to measure each QA, and two, keeping the same dimensional system during the DA mathematical operations, as the eight-base Byte and the ten-base bit are indiscriminately used in software metrics. We should manage both issues following standards such as the ISO-25000 and ISO-25010.\n",
    "\n",
    "### 8.2.4\tExtending DA into Software Architecture\n",
    "To apply DA into software architecture we defined a software analogy for **Fundamental Dimensional Units (FDU)**. According to traditional DA, there are at least three such units: the **Longitude (L)**, the **Mass (M)** and the **Time (T)**; these three units respectively define the separation existing between two or more bodies in space, the amount of mass in a body and the increasing sequential difference between events.\n",
    "\n",
    "Consequently, we defined our own **Software Architecture Fundamental Dimensional Units (SAFDU)** as the **Architectural Longitude (L⁺)**, the **Architectural Mass (M⁺)** and the **Architectural Time (T⁺)**, defined respectively as the separation that exists between at least two Elements in the logical space mark by their Connectors, the amount of information or the computational states an Element can contain, and the existing progress between two Events inside a solution. Furthermore, to avoid confusions we renamed **L⁺** to **A** for **Abstraction**, **M⁺** to **D** for **Data**, and **T⁺** to **T** for Time.\n",
    "\n",
    "Additionally, we defined the following concepts:\n",
    "* **Element:** any logical representation of a computational resource or device (i.e.: nodes, components, objects, layers, systems, server).\n",
    "* **Logical Space:** Conceptual frame of reference created by the relationship that exists between separate Elements (i.e.: class diagrams, component diagrams).\n",
    "* **Information:** A system’s digital record that can be transmitted or processed (i.e.: bit, Byte, LOCs, Jumps).\n",
    "* Event: An action or occurrence recognized by an Element over Time (i.e.: Sec, S, tics, cycles, min, h, ms).\n",
    "\n",
    "Fortunately, the Π-Theorem is a well-defined and proved mathematical artifact and only needs the assumption that the software behaviour has an underlining physical phenomenon hidden in all its abstraction layers. In contrast, the Principle of Similitude needs careful consideration to find a proper connection to software architecture. To do so, we define the Principle of Similitude in software architecture as follows:\n",
    "\n",
    "* **Architectural Geometric Similitude (AGS)** is characterized by the distinct and replicable form that exists within a system's structure. This similitude is established by employing software architectural patterns and reference architectural models.\n",
    "* **Architectural Kinematic Similitude (AKS)** refers to the factors that cause driving the actions of the system. To represent the system's functional requirements, requirement engineering techniques such as User Stories, Use Cases, and Quality Scenarios are utilized.\n",
    "* **Architectural Dynamic Similitude (ADS)** refers to the predictable and standardized behavioural pattern of a system. This similitude is achieved through the use and representation of Software Architecture Tactics and Architectural Connectors.\n",
    "\n",
    "To clarify, in software architecture the solution’s structure is given by its pattern (i.e.: client-server, multi-layered, and pipeline). The easiest way to appreciate this structure is with the Component-Connector Diagram family, where the Connectors measure the distance between domain specific Components in a standardized fashion, thus ours AGS focuses on the Connector to examine architectural patterns. Second, the AKS deals with the Connector’s behaviour after any interruption and how they respond to such event. And third, our ADS is seen as how data streams flow between Connectors.\n",
    "\n",
    "Furthermore, to express and define Dimensionless Coefficients (DCs) we use the same iterative algorithm using the parameters relevant list to create a dimensional matrix, then operating the core portion into a unity matrix, and using the residual matrix polynomial exponents to generate the DC/DN.\n",
    "\n",
    "Finally, the Theory of Modelling and its scaling concept have two parallel interpretations. One, the notion that a software solution can scale up or down vertically (more resources per processing node) or horizontally (more processing nodes with the same resources). And two, the abstraction levels where the engineers can highlight or suppress certain properties in the architecture, thus allowing them to shift scale in the modelling and design tasks.\n",
    "\n"
   ]
  },
  {
   "cell_type": "markdown",
   "metadata": {},
   "source": [
    "## CODE"
   ]
  },
  {
   "cell_type": "markdown",
   "metadata": {},
   "source": [
    "### Imports and Configuration"
   ]
  },
  {
   "cell_type": "code",
   "execution_count": 1,
   "metadata": {},
   "outputs": [],
   "source": [
    "# Author: Santiago Felipe Arteaga Martin\n",
    "# Date: 2023-10-23\n",
    "# Version: 0.1\n",
    "# Description: This file contains the libraries that will be used in the project\n",
    "# python_version: 3.10.0\n",
    "\n",
    "# python modules\n",
    "import os\n",
    "import sys\n",
    "\n",
    "# modules for data analysis\n",
    "import numpy as np\n",
    "import pandas as pd\n",
    "# import polars as pl\n",
    "\n",
    "# modules for dimensional analysis\n",
    "# import pint\n",
    "# from pint import UnitRegistry\n",
    "\n",
    "# modules for desplaying images\n",
    "import matplotlib.pyplot as plt\n",
    "import seaborn as sns\n",
    "\n",
    "# custom modules\n",
    "# dimensional parameters class\n",
    "from src.parameters import Parameter\n",
    "from src.solver import DASolver"
   ]
  },
  {
   "cell_type": "code",
   "execution_count": 2,
   "metadata": {},
   "outputs": [
    {
     "name": "stdout",
     "output_type": "stream",
     "text": [
      "Path to constants file: Data\\constants_en_dsaa.txt\n",
      "Path to dimensions file: Data\\dims_en_dsaa.txt\n"
     ]
    }
   ],
   "source": [
    "# config data folder and files\n",
    "# data folder\n",
    "dataf = \"Data\"\n",
    "# DSAA config files\n",
    "const_fn = \"constants_en_dsaa.txt\"\n",
    "dims_fn = \"dims_en_dsaa.txt\"\n",
    "\n",
    "# config path to data folder + files\n",
    "cons_fp = os.path.join(dataf, const_fn)\n",
    "dims_fp = os.path.join(dataf, dims_fn)\n",
    "print(f\"Path to constants file: {cons_fp}\")\n",
    "print(f\"Path to dimensions file: {dims_fp}\")\n"
   ]
  },
  {
   "cell_type": "code",
   "execution_count": 3,
   "metadata": {},
   "outputs": [
    {
     "name": "stdout",
     "output_type": "stream",
     "text": [
      "Parameter(name='preassure drop', symbol='{\\\\Delta}p', dimensions='M*L^-1*T^-2', description='', relevant=False, output=True, _idx=-1, _expr_dims='L^(-1)*M^(1)*T^(-2)', _sym_dims='L**(-1)* M**(1)* T**(-2)', _exp_dim_lt=[-1, 1, 0, 0, -2, 0, 0, 0, 0])\n"
     ]
    }
   ],
   "source": [
    "a = Parameter(name=\"preassure drop\",\n",
    "                symbol=\"{\\\\Delta}p\",\n",
    "                dimensions=\"M*L^-1*T^-2\",\n",
    "                output=True)\n",
    "print(a)"
   ]
  },
  {
   "cell_type": "code",
   "execution_count": 4,
   "metadata": {},
   "outputs": [
    {
     "name": "stdout",
     "output_type": "stream",
     "text": [
      "<class 'list'>\n",
      "Dimensional relevance of the parameters:\n",
      "Parameter(name='preassure drop', symbol='{\\\\Delta}p', dimensions='M*L^-1*T^-2', description='', relevant=False, output=True, _idx=-1, _expr_dims='L^(-1)*M^(1)*T^(-2)', _sym_dims='L**(-1)* M**(1)* T**(-2)', _exp_dim_lt=[-1, 1, 0, 0, -2, 0, 0, 0, 0])\n",
      "Parameter(name='pipe length', symbol='l', dimensions='L', description='', relevant=True, output=False, _idx=-1, _expr_dims='L^(1)', _sym_dims='L**(1)', _exp_dim_lt=[1, 0, 0, 0, 0, 0, 0, 0, 0])\n",
      "Parameter(name='pipe radius', symbol='R', dimensions='L', description='', relevant=False, output=False, _idx=-1, _expr_dims='L^(1)', _sym_dims='L**(1)', _exp_dim_lt=[1, 0, 0, 0, 0, 0, 0, 0, 0])\n",
      "Parameter(name='viscosity', symbol='{\\\\mu}', dimensions='M*L^-1*T^-1', description='', relevant=True, output=False, _idx=-1, _expr_dims='L^(-1)*M^(1)*T^(-1)', _sym_dims='L**(-1)* M**(1)* T**(-1)', _exp_dim_lt=[-1, 1, 0, 0, -1, 0, 0, 0, 0])\n",
      "Parameter(name='volume flow rate', symbol='Q', dimensions='L^3*T^-1', description='', relevant=True, output=False, _idx=-1, _expr_dims='L^(3)*T^(-1)', _sym_dims='L**(3)* T**(-1)', _exp_dim_lt=[3, 0, 0, 0, -1, 0, 0, 0, 0])\n",
      "Parameter(name='density', symbol='{\\\\rho}', dimensions='M*L^-3', description='', relevant=False, output=False, _idx=-1, _expr_dims='L^(-3)*M^(1)', _sym_dims='L**(-3)* M**(1)', _exp_dim_lt=[-3, 1, 0, 0, 0, 0, 0, 0, 0])\n",
      "Parameter(name='frecuency', symbol='f_{0}', dimensions='T^-1', description='', relevant=False, output=False, _idx=-1, _expr_dims='T^(-1)', _sym_dims='T**(-1)', _exp_dim_lt=[0, 0, 0, 0, -1, 0, 0, 0, 0])\n"
     ]
    }
   ],
   "source": [
    "dim_relevance_lt = [\n",
    "    Parameter(name=\"preassure drop\",\n",
    "              symbol=\"{\\\\Delta}p\",\n",
    "              dimensions=\"M*L^-1*T^-2\",\n",
    "              output=True),\n",
    "    Parameter(name=\"pipe length\",\n",
    "                symbol=\"l\",\n",
    "                dimensions=\"L\",\n",
    "                relevant=True),\n",
    "    Parameter(name=\"pipe radius\",\n",
    "                symbol=\"R\",\n",
    "                dimensions=\"L\"),\n",
    "    Parameter(name=\"viscosity\",\n",
    "                symbol=\"{\\\\mu}\",\n",
    "                dimensions=\"M*L^-1*T^-1\",\n",
    "                relevant=True),\n",
    "    Parameter(name=\"volume flow rate\",\n",
    "                symbol=\"Q\",\n",
    "                dimensions=\"L^3*T^-1\",\n",
    "                relevant=True),\n",
    "    Parameter(name=\"density\",\n",
    "                symbol=\"{\\\\rho}\",\n",
    "                dimensions=\"M*L^-3\"),\n",
    "    Parameter(name=\"frecuency\",\n",
    "                symbol=\"f_{0}\",\n",
    "                dimensions=\"T^-1\"),\n",
    "]\n",
    "\n",
    "print(type(dim_relevance_lt))\n",
    "print(\"Dimensional relevance of the parameters:\")\n",
    "for p in dim_relevance_lt:\n",
    "    print(p)"
   ]
  },
  {
   "cell_type": "code",
   "execution_count": 5,
   "metadata": {},
   "outputs": [],
   "source": [
    "test_dm = DASolver(phenomena=\"pressure drop problem\",\n",
    "                   description=\"pressure drop in a pipe test\",\n",
    "                   dimensional_lt=dim_relevance_lt,)"
   ]
  },
  {
   "cell_type": "code",
   "execution_count": 6,
   "metadata": {},
   "outputs": [],
   "source": [
    "test_dm.config_dim_matrix()"
   ]
  },
  {
   "cell_type": "code",
   "execution_count": 7,
   "metadata": {},
   "outputs": [],
   "source": [
    "test_dm.solve_dim_matrix()"
   ]
  },
  {
   "cell_type": "code",
   "execution_count": 8,
   "metadata": {},
   "outputs": [
    {
     "name": "stdout",
     "output_type": "stream",
     "text": [
      "DASolver(\n",
      "\tphenomena='pressure drop problem',\n",
      "\tdescription='pressure drop in a pipe test',\n",
      "\tdimensional_lt=[Parameter(name='pipe length', symbol='l', dimensions='L', description='', relevant=True, output=False, _idx=0, _expr_dims='L^(1)', _sym_dims='L**(1)', _exp_dim_lt=[1, 0, 0, 0, 0, 0, 0, 0, 0]), Parameter(name='viscosity', symbol='{\\\\mu}', dimensions='M*L^-1*T^-1', description='', relevant=True, output=False, _idx=1, _expr_dims='L^(-1)*M^(1)*T^(-1)', _sym_dims='L**(-1)* M**(1)* T**(-1)', _exp_dim_lt=[-1, 1, 0, 0, -1, 0, 0, 0, 0]), Parameter(name='volume flow rate', symbol='Q', dimensions='L^3*T^-1', description='', relevant=True, output=False, _idx=2, _expr_dims='L^(3)*T^(-1)', _sym_dims='L**(3)* T**(-1)', _exp_dim_lt=[3, 0, 0, 0, -1, 0, 0, 0, 0]), Parameter(name='preassure drop', symbol='{\\\\Delta}p', dimensions='M*L^-1*T^-2', description='', relevant=False, output=True, _idx=3, _expr_dims='L^(-1)*M^(1)*T^(-2)', _sym_dims='L**(-1)* M**(1)* T**(-2)', _exp_dim_lt=[-1, 1, 0, 0, -2, 0, 0, 0, 0]), Parameter(name='pipe radius', symbol='R', dimensions='L', description='', relevant=False, output=False, _idx=4, _expr_dims='L^(1)', _sym_dims='L**(1)', _exp_dim_lt=[1, 0, 0, 0, 0, 0, 0, 0, 0]), Parameter(name='density', symbol='{\\\\rho}', dimensions='M*L^-3', description='', relevant=False, output=False, _idx=5, _expr_dims='L^(-3)*M^(1)', _sym_dims='L**(-3)* M**(1)', _exp_dim_lt=[-3, 1, 0, 0, 0, 0, 0, 0, 0]), Parameter(name='frecuency', symbol='f_{0}', dimensions='T^-1', description='', relevant=False, output=False, _idx=6, _expr_dims='T^(-1)', _sym_dims='T**(-1)', _exp_dim_lt=[0, 0, 0, 0, -1, 0, 0, 0, 0])],\n",
      "\toutput=Parameter(name='preassure drop', symbol='{\\\\Delta}p', dimensions='M*L^-1*T^-2', description='', relevant=False, output=True, _idx=3, _expr_dims='L^(-1)*M^(1)*T^(-2)', _sym_dims='L**(-1)* M**(1)* T**(-2)', _exp_dim_lt=[-1, 1, 0, 0, -2, 0, 0, 0, 0]),\n",
      "\tpi_coefficients=[PiCoefficient(name='', symbol='', description='', pi_expr='', _idx=-1, _pi_param_lt=['l', '{\\\\mu}', 'Q', '{\\\\Delta}p', 'R', '{\\\\rho}', 'f_{0}'], _pi_exp_lt=array([[3.00000000000000, -1.00000000000000, -1.00000000000000, 1, 0, 0,\n",
      "        0]], dtype=object), _rref_dim_matrix=array([[1, 0, 0, -3.00000000000000, 1.00000000000000, 1.00000000000000,\n",
      "        -3.00000000000000],\n",
      "       [0, 1, 0, 1.00000000000000, 0, 1.00000000000000, 0],\n",
      "       [0, 0, 1, 1.00000000000000, 0, -1.00000000000000,\n",
      "        1.00000000000000]], dtype=object), _pivot_lt=(0, 1, 2)), PiCoefficient(name='', symbol='', description='', pi_expr='', _idx=-1, _pi_param_lt=['l', '{\\\\mu}', 'Q', '{\\\\Delta}p', 'R', '{\\\\rho}', 'f_{0}'], _pi_exp_lt=array([[-1.00000000000000, 0, 0, 0, 1, 0, 0]], dtype=object), _rref_dim_matrix=array([[1, 0, 0, -3.00000000000000, 1.00000000000000, 1.00000000000000,\n",
      "        -3.00000000000000],\n",
      "       [0, 1, 0, 1.00000000000000, 0, 1.00000000000000, 0],\n",
      "       [0, 0, 1, 1.00000000000000, 0, -1.00000000000000,\n",
      "        1.00000000000000]], dtype=object), _pivot_lt=(0, 1, 2)), PiCoefficient(name='', symbol='', description='', pi_expr='', _idx=-1, _pi_param_lt=['l', '{\\\\mu}', 'Q', '{\\\\Delta}p', 'R', '{\\\\rho}', 'f_{0}'], _pi_exp_lt=array([[-1.00000000000000, -1.00000000000000, 1.00000000000000, 0, 0, 1,\n",
      "        0]], dtype=object), _rref_dim_matrix=array([[1, 0, 0, -3.00000000000000, 1.00000000000000, 1.00000000000000,\n",
      "        -3.00000000000000],\n",
      "       [0, 1, 0, 1.00000000000000, 0, 1.00000000000000, 0],\n",
      "       [0, 0, 1, 1.00000000000000, 0, -1.00000000000000,\n",
      "        1.00000000000000]], dtype=object), _pivot_lt=(0, 1, 2)), PiCoefficient(name='', symbol='', description='', pi_expr='', _idx=-1, _pi_param_lt=['l', '{\\\\mu}', 'Q', '{\\\\Delta}p', 'R', '{\\\\rho}', 'f_{0}'], _pi_exp_lt=array([[3.00000000000000, 0, -1.00000000000000, 0, 0, 0, 1]], dtype=object), _rref_dim_matrix=array([[1, 0, 0, -3.00000000000000, 1.00000000000000, 1.00000000000000,\n",
      "        -3.00000000000000],\n",
      "       [0, 1, 0, 1.00000000000000, 0, 1.00000000000000, 0],\n",
      "       [0, 0, 1, 1.00000000000000, 0, -1.00000000000000,\n",
      "        1.00000000000000]], dtype=object), _pivot_lt=(0, 1, 2))],\n",
      "\t_work_param_dt={'l': Parameter(name='pipe length', symbol='l', dimensions='L', description='', relevant=True, output=False, _idx=0, _expr_dims='L^(1)', _sym_dims='L**(1)', _exp_dim_lt=[1, 0, 0, 0, 0, 0, 0, 0, 0]), '{\\\\mu}': Parameter(name='viscosity', symbol='{\\\\mu}', dimensions='M*L^-1*T^-1', description='', relevant=True, output=False, _idx=1, _expr_dims='L^(-1)*M^(1)*T^(-1)', _sym_dims='L**(-1)* M**(1)* T**(-1)', _exp_dim_lt=[-1, 1, 0, 0, -1, 0, 0, 0, 0]), 'Q': Parameter(name='volume flow rate', symbol='Q', dimensions='L^3*T^-1', description='', relevant=True, output=False, _idx=2, _expr_dims='L^(3)*T^(-1)', _sym_dims='L**(3)* T**(-1)', _exp_dim_lt=[3, 0, 0, 0, -1, 0, 0, 0, 0]), '{\\\\Delta}p': Parameter(name='preassure drop', symbol='{\\\\Delta}p', dimensions='M*L^-1*T^-2', description='', relevant=False, output=True, _idx=3, _expr_dims='L^(-1)*M^(1)*T^(-2)', _sym_dims='L**(-1)* M**(1)* T**(-2)', _exp_dim_lt=[-1, 1, 0, 0, -2, 0, 0, 0, 0]), 'R': Parameter(name='pipe radius', symbol='R', dimensions='L', description='', relevant=False, output=False, _idx=4, _expr_dims='L^(1)', _sym_dims='L**(1)', _exp_dim_lt=[1, 0, 0, 0, 0, 0, 0, 0, 0]), '{\\\\rho}': Parameter(name='density', symbol='{\\\\rho}', dimensions='M*L^-3', description='', relevant=False, output=False, _idx=5, _expr_dims='L^(-3)*M^(1)', _sym_dims='L**(-3)* M**(1)', _exp_dim_lt=[-3, 1, 0, 0, 0, 0, 0, 0, 0]), 'f_{0}': Parameter(name='frecuency', symbol='f_{0}', dimensions='T^-1', description='', relevant=False, output=False, _idx=6, _expr_dims='T^(-1)', _sym_dims='T**(-1)', _exp_dim_lt=[0, 0, 0, 0, -1, 0, 0, 0, 0])},\n",
      "\t_n_param=7,\n",
      "\t_relv_param_dt={'l': Parameter(name='pipe length', symbol='l', dimensions='L', description='', relevant=True, output=False, _idx=0, _expr_dims='L^(1)', _sym_dims='L**(1)', _exp_dim_lt=[1, 0, 0, 0, 0, 0, 0, 0, 0]), '{\\\\mu}': Parameter(name='viscosity', symbol='{\\\\mu}', dimensions='M*L^-1*T^-1', description='', relevant=True, output=False, _idx=1, _expr_dims='L^(-1)*M^(1)*T^(-1)', _sym_dims='L**(-1)* M**(1)* T**(-1)', _exp_dim_lt=[-1, 1, 0, 0, -1, 0, 0, 0, 0]), 'Q': Parameter(name='volume flow rate', symbol='Q', dimensions='L^3*T^-1', description='', relevant=True, output=False, _idx=2, _expr_dims='L^(3)*T^(-1)', _sym_dims='L**(3)* T**(-1)', _exp_dim_lt=[3, 0, 0, 0, -1, 0, 0, 0, 0])},\n",
      "\t_n_relv_param=3,\n",
      "\t_used_fdu_lt=['L', 'M', 'T'],\n",
      "\t_n_used_fdu=3,\n",
      "\t_cur_dim_matrix=[[ 1. -1.  3. -1.  1. -3.  0.]\n",
      " [ 0.  1.  0.  1.  0.  1.  0.]\n",
      " [ 0. -1. -1. -2.  0.  0. -1.]],\n",
      "\t_trans_dim_matrix=[[ 1.  0.  0.]\n",
      " [-1.  1. -1.]\n",
      " [ 3.  0. -1.]\n",
      " [-1.  1. -2.]\n",
      " [ 1.  0.  0.]\n",
      " [-3.  1.  0.]\n",
      " [ 0.  0. -1.]],\n",
      ")\n",
      "<class 'list'>\n"
     ]
    }
   ],
   "source": [
    "print(test_dm)\n",
    "print(type(test_dm.pi_coefficients))"
   ]
  },
  {
   "cell_type": "code",
   "execution_count": 9,
   "metadata": {},
   "outputs": [
    {
     "name": "stdout",
     "output_type": "stream",
     "text": [
      "  -1\n",
      "['l', '{\\\\mu}', 'Q', '{\\\\Delta}p', 'R', '{\\\\rho}', 'f_{0}']\n",
      "[[3.00000000000000 -1.00000000000000 -1.00000000000000 1 0 0 0]]\n",
      "[[1 0 0 -3.00000000000000 1.00000000000000 1.00000000000000\n",
      "  -3.00000000000000]\n",
      " [0 1 0 1.00000000000000 0 1.00000000000000 0]\n",
      " [0 0 1 1.00000000000000 0 -1.00000000000000 1.00000000000000]]\n",
      "  -1\n",
      "['l', '{\\\\mu}', 'Q', '{\\\\Delta}p', 'R', '{\\\\rho}', 'f_{0}']\n",
      "[[-1.00000000000000 0 0 0 1 0 0]]\n",
      "[[1 0 0 -3.00000000000000 1.00000000000000 1.00000000000000\n",
      "  -3.00000000000000]\n",
      " [0 1 0 1.00000000000000 0 1.00000000000000 0]\n",
      " [0 0 1 1.00000000000000 0 -1.00000000000000 1.00000000000000]]\n",
      "  -1\n",
      "['l', '{\\\\mu}', 'Q', '{\\\\Delta}p', 'R', '{\\\\rho}', 'f_{0}']\n",
      "[[-1.00000000000000 -1.00000000000000 1.00000000000000 0 0 1 0]]\n",
      "[[1 0 0 -3.00000000000000 1.00000000000000 1.00000000000000\n",
      "  -3.00000000000000]\n",
      " [0 1 0 1.00000000000000 0 1.00000000000000 0]\n",
      " [0 0 1 1.00000000000000 0 -1.00000000000000 1.00000000000000]]\n",
      "  -1\n",
      "['l', '{\\\\mu}', 'Q', '{\\\\Delta}p', 'R', '{\\\\rho}', 'f_{0}']\n",
      "[[3.00000000000000 0 -1.00000000000000 0 0 0 1]]\n",
      "[[1 0 0 -3.00000000000000 1.00000000000000 1.00000000000000\n",
      "  -3.00000000000000]\n",
      " [0 1 0 1.00000000000000 0 1.00000000000000 0]\n",
      " [0 0 1 1.00000000000000 0 -1.00000000000000 1.00000000000000]]\n"
     ]
    }
   ],
   "source": [
    "for tpi in test_dm.pi_coefficients:\n",
    "    print(tpi.name, tpi.symbol, tpi._idx)\n",
    "    print(tpi._pi_param_lt)\n",
    "    print(tpi._pi_exp_lt)\n",
    "    print(tpi._rref_dim_matrix)"
   ]
  },
  {
   "cell_type": "code",
   "execution_count": 10,
   "metadata": {},
   "outputs": [
    {
     "ename": "NameError",
     "evalue": "name 'UnitRegistry' is not defined",
     "output_type": "error",
     "traceback": [
      "\u001b[1;31m---------------------------------------------------------------------------\u001b[0m",
      "\u001b[1;31mNameError\u001b[0m                                 Traceback (most recent call last)",
      "Cell \u001b[1;32mIn[10], line 1\u001b[0m\n\u001b[1;32m----> 1\u001b[0m ureg \u001b[38;5;241m=\u001b[39m \u001b[43mUnitRegistry\u001b[49m(dims_fp)\n\u001b[0;32m      3\u001b[0m \u001b[38;5;66;03m# ureg.load\u001b[39;00m\n\u001b[0;32m      4\u001b[0m \u001b[38;5;66;03m# ureg.load_definitions('/your/path/to/my_def.txt')\u001b[39;00m\n\u001b[0;32m      6\u001b[0m \u001b[38;5;124m\"\u001b[39m\u001b[38;5;124mbt\u001b[39m\u001b[38;5;124m\"\u001b[39m \u001b[38;5;129;01min\u001b[39;00m ureg\n",
      "\u001b[1;31mNameError\u001b[0m: name 'UnitRegistry' is not defined"
     ]
    }
   ],
   "source": [
    "ureg = UnitRegistry(dims_fp)\n",
    "\n",
    "# ureg.load\n",
    "# ureg.load_definitions('/your/path/to/my_def.txt')\n",
    "\n",
    "\"bt\" in ureg\n",
    "# \"param\" in ureg"
   ]
  },
  {
   "cell_type": "markdown",
   "metadata": {},
   "source": [
    "### Define the Relevance List\n",
    "\n",
    "from the traditional DA, the objective of this part is:\n",
    "1. To create a complete  and mutually independent parameters (variables and constants) thought to be relevant for the process and that can influence the phenomena, this is called a relevance list."
   ]
  },
  {
   "cell_type": "code",
   "execution_count": null,
   "metadata": {},
   "outputs": [],
   "source": []
  },
  {
   "cell_type": "code",
   "execution_count": null,
   "metadata": {},
   "outputs": [],
   "source": []
  },
  {
   "cell_type": "code",
   "execution_count": null,
   "metadata": {},
   "outputs": [],
   "source": []
  },
  {
   "cell_type": "markdown",
   "metadata": {},
   "source": [
    "### Create the Dimensional Matrix\n",
    "\n",
    "2. To shape this relevance list into a matrixial form divided into two parts. The square core matrix; and the residual matrix. The former contains the fundamental dimensions in the rows (i.e.: L, M, and T) and the most critical dimensional variables as columns (i.e.: ρ, L, and V) and the latter contains the rest of the independently significant variables as columns; in particular, the variable we want to predict as the first one.\n"
   ]
  },
  {
   "cell_type": "code",
   "execution_count": null,
   "metadata": {},
   "outputs": [],
   "source": []
  },
  {
   "cell_type": "code",
   "execution_count": null,
   "metadata": {},
   "outputs": [],
   "source": []
  },
  {
   "cell_type": "code",
   "execution_count": null,
   "metadata": {},
   "outputs": [],
   "source": []
  },
  {
   "cell_type": "markdown",
   "metadata": {},
   "source": [
    "### Solve the Dimensional Matrix\n",
    "\n",
    "3. To linearly transform the core matrix into a unity matrix (ones as diagonal values, and the remaining elements are zero).\n"
   ]
  },
  {
   "cell_type": "code",
   "execution_count": null,
   "metadata": {},
   "outputs": [],
   "source": []
  },
  {
   "cell_type": "code",
   "execution_count": null,
   "metadata": {},
   "outputs": [],
   "source": []
  },
  {
   "cell_type": "code",
   "execution_count": null,
   "metadata": {},
   "outputs": [],
   "source": []
  },
  {
   "cell_type": "markdown",
   "metadata": {},
   "source": [
    "### Generate the Dimensionless Coefficients\n",
    "\n",
    "4. To divide the variables of the residual matrix by the variables of the unity matrix with the exponents indicated by the unit values of the residual matrix to generate DC/DN."
   ]
  },
  {
   "cell_type": "code",
   "execution_count": null,
   "metadata": {},
   "outputs": [],
   "source": []
  },
  {
   "cell_type": "code",
   "execution_count": null,
   "metadata": {},
   "outputs": [],
   "source": []
  },
  {
   "cell_type": "code",
   "execution_count": null,
   "metadata": {},
   "outputs": [],
   "source": []
  },
  {
   "cell_type": "markdown",
   "metadata": {},
   "source": [
    "### Display & Simulate the Results"
   ]
  },
  {
   "cell_type": "code",
   "execution_count": null,
   "metadata": {},
   "outputs": [],
   "source": []
  },
  {
   "cell_type": "code",
   "execution_count": null,
   "metadata": {},
   "outputs": [],
   "source": []
  },
  {
   "cell_type": "code",
   "execution_count": null,
   "metadata": {},
   "outputs": [],
   "source": []
  },
  {
   "cell_type": "markdown",
   "metadata": {},
   "source": [
    "### Analysis of the Results"
   ]
  },
  {
   "cell_type": "code",
   "execution_count": null,
   "metadata": {},
   "outputs": [],
   "source": []
  },
  {
   "cell_type": "code",
   "execution_count": null,
   "metadata": {},
   "outputs": [],
   "source": []
  },
  {
   "cell_type": "code",
   "execution_count": null,
   "metadata": {},
   "outputs": [],
   "source": []
  }
 ],
 "metadata": {
  "kernelspec": {
   "display_name": "Python 3",
   "language": "python",
   "name": "python3"
  },
  "language_info": {
   "codemirror_mode": {
    "name": "ipython",
    "version": 3
   },
   "file_extension": ".py",
   "mimetype": "text/x-python",
   "name": "python",
   "nbconvert_exporter": "python",
   "pygments_lexer": "ipython3",
   "version": "3.10.11"
  }
 },
 "nbformat": 4,
 "nbformat_minor": 2
}
